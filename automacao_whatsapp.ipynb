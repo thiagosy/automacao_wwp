{
 "cells": [
  {
   "cell_type": "markdown",
   "id": "a09df647",
   "metadata": {},
   "source": [
    "# AUTOMAÇÃO PARA O ENVIO DE MENSAGEM VIA WHATSAPP WEB"
   ]
  },
  {
   "cell_type": "code",
   "execution_count": 25,
   "id": "c0fa6840",
   "metadata": {},
   "outputs": [],
   "source": [
    "import pyautogui\n",
    "import time\n",
    "import pandas as pd\n",
    "import numpy as np"
   ]
  },
  {
   "cell_type": "code",
   "execution_count": 26,
   "id": "7c68032d",
   "metadata": {},
   "outputs": [],
   "source": [
    "# comandos:\n",
    "\n",
    "# pyautogui.click para clicar com o mouse\n",
    "# pyautogui.write para escrever um texto \n",
    "# pyautogui.press para apertar 1 tecla\n",
    "# pyautogui.hotkey para combinação de teclas \n",
    "# pyautogui.scroll para tolar a tela"
   ]
  },
  {
   "cell_type": "code",
   "execution_count": 27,
   "id": "d63b62b7",
   "metadata": {},
   "outputs": [],
   "source": [
    "pyautogui.PAUSE = 0.5"
   ]
  },
  {
   "cell_type": "code",
   "execution_count": 28,
   "id": "d40bd8a0",
   "metadata": {},
   "outputs": [],
   "source": [
    "# Abrir o navegador Chrome\n",
    "# pyautogui.press(\"win\")\n",
    "# pyautogui.write(\"chrome\")\n",
    "# pyautogui.press(\"enter\")\n",
    "# time.sleep(5)\n",
    "\n",
    "# Abrir nova aba no chrome\n",
    "pyautogui.hotkey('ctrl', 't')\n",
    "    \n",
    "# Abrir o whatsapp web\n",
    "pyautogui.write(\"https://web.whatsapp.com/\")\n",
    "pyautogui.press(\"enter\")\n",
    "time.sleep(20) # aguardar carregar \n",
    "    \n",
    "# Nova conversa\n",
    "for _ in range(5):\n",
    "    pyautogui.press(\"tab\")\n",
    "    time.sleep(0.5)\n",
    "\n",
    "pyautogui.press(\"enter\")  \n",
    "time.sleep(10)\n",
    "\n",
    "# Inserindo no número \n",
    "for _ in range(5):\n",
    "    pyautogui.press(\"tab\")\n",
    "    time.sleep(0.5)\n",
    "\n",
    "pyautogui.write(\"0\") # inserir o número \n",
    "pyautogui.press(\"enter\")  \n",
    "time.sleep(5)\n",
    "\n",
    "# Abrindo a nova conversa \n",
    "for _ in range(5):\n",
    "    pyautogui.press(\"tab\")\n",
    "    time.sleep(0.5)\n",
    "\n",
    "# Selecionando o campo de texto\n",
    "pyautogui.click(x=1102, y=999)\n",
    "time.sleep(3)\n",
    "\n",
    "# Excrevendo a mensagem\n",
    "pyautogui.write(\"mensagem automática\")\n",
    "time.sleep(1)\n",
    "pyautogui.press(\"enter\")"
   ]
  },
  {
   "cell_type": "markdown",
   "id": "e19c2bd3",
   "metadata": {},
   "source": []
  }
 ],
 "metadata": {
  "kernelspec": {
   "display_name": "Python 3 (ipykernel)",
   "language": "python",
   "name": "python3"
  },
  "language_info": {
   "codemirror_mode": {
    "name": "ipython",
    "version": 3
   },
   "file_extension": ".py",
   "mimetype": "text/x-python",
   "name": "python",
   "nbconvert_exporter": "python",
   "pygments_lexer": "ipython3",
   "version": "3.11.4"
  }
 },
 "nbformat": 4,
 "nbformat_minor": 5
}
